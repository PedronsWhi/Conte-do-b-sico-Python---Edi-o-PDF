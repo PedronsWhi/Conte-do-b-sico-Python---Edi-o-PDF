{
 "cells": [
  {
   "cell_type": "markdown",
   "metadata": {},
   "source": [
    "# Projeto 02\n",
    "\n",
    "- Buscar as informações da ação automaticamente\n",
    "- Criando as  análises solicitadas \n",
    "    - Cotação máxima\n",
    "    - Cotação mínima\n",
    "    - Valor médio\n",
    "- Enviar um email automaticamente para o gestor \n"
   ]
  },
  {
   "cell_type": "markdown",
   "metadata": {},
   "source": [
    "#### Buscar dados da ação automaticamente \n",
    "\n",
    "Bibliotecas: `yfinace` e `matplotlib`\n",
    "\n",
    "- `!pip install yfinance`\n",
    "- `!pip install matplotlib`"
   ]
  },
  {
   "cell_type": "code",
   "execution_count": 1,
   "metadata": {},
   "outputs": [
    {
     "name": "stdout",
     "output_type": "stream",
     "text": [
      "Collecting yfinance\n",
      "  Downloading yfinance-0.2.41-py2.py3-none-any.whl.metadata (11 kB)\n",
      "Requirement already satisfied: pandas>=1.3.0 in c:\\users\\pedro\\appdata\\local\\programs\\python\\python312\\lib\\site-packages (from yfinance) (2.2.2)\n",
      "Requirement already satisfied: numpy>=1.16.5 in c:\\users\\pedro\\appdata\\local\\programs\\python\\python312\\lib\\site-packages (from yfinance) (1.26.4)\n",
      "Collecting requests>=2.31 (from yfinance)\n",
      "  Downloading requests-2.32.3-py3-none-any.whl.metadata (4.6 kB)\n",
      "Collecting multitasking>=0.0.7 (from yfinance)\n",
      "  Downloading multitasking-0.0.11-py3-none-any.whl.metadata (5.5 kB)\n",
      "Collecting lxml>=4.9.1 (from yfinance)\n",
      "  Downloading lxml-5.2.2-cp312-cp312-win_amd64.whl.metadata (3.5 kB)\n",
      "Requirement already satisfied: platformdirs>=2.0.0 in c:\\users\\pedro\\appdata\\roaming\\python\\python312\\site-packages (from yfinance) (4.2.2)\n",
      "Requirement already satisfied: pytz>=2022.5 in c:\\users\\pedro\\appdata\\local\\programs\\python\\python312\\lib\\site-packages (from yfinance) (2024.1)\n",
      "Collecting frozendict>=2.3.4 (from yfinance)\n",
      "  Downloading frozendict-2.4.4-py312-none-any.whl.metadata (23 kB)\n",
      "Collecting peewee>=3.16.2 (from yfinance)\n",
      "  Downloading peewee-3.17.6.tar.gz (3.0 MB)\n",
      "     ---------------------------------------- 0.0/3.0 MB ? eta -:--:--\n",
      "     ---------------------------------------- 0.0/3.0 MB 660.6 kB/s eta 0:00:05\n",
      "     - -------------------------------------- 0.1/3.0 MB 1.4 MB/s eta 0:00:02\n",
      "     --- ------------------------------------ 0.2/3.0 MB 1.8 MB/s eta 0:00:02\n",
      "     ----- ---------------------------------- 0.4/3.0 MB 2.4 MB/s eta 0:00:02\n",
      "     ----- ---------------------------------- 0.4/3.0 MB 2.4 MB/s eta 0:00:02\n",
      "     -------- ------------------------------- 0.6/3.0 MB 2.5 MB/s eta 0:00:01\n",
      "     ---------- ----------------------------- 0.8/3.0 MB 2.4 MB/s eta 0:00:01\n",
      "     ----------- ---------------------------- 0.9/3.0 MB 2.5 MB/s eta 0:00:01\n",
      "     ----------- ---------------------------- 0.9/3.0 MB 2.5 MB/s eta 0:00:01\n",
      "     --------------- ------------------------ 1.2/3.0 MB 2.5 MB/s eta 0:00:01\n",
      "     ----------------- ---------------------- 1.3/3.0 MB 2.6 MB/s eta 0:00:01\n",
      "     ------------------- -------------------- 1.4/3.0 MB 2.6 MB/s eta 0:00:01\n",
      "     -------------------- ------------------- 1.5/3.0 MB 2.6 MB/s eta 0:00:01\n",
      "     ----------------------- ---------------- 1.7/3.0 MB 2.7 MB/s eta 0:00:01\n",
      "     ------------------------ --------------- 1.8/3.0 MB 2.6 MB/s eta 0:00:01\n",
      "     -------------------------- ------------- 2.0/3.0 MB 2.7 MB/s eta 0:00:01\n",
      "     ---------------------------- ----------- 2.1/3.0 MB 2.7 MB/s eta 0:00:01\n",
      "     ----------------------------- ---------- 2.2/3.0 MB 2.7 MB/s eta 0:00:01\n",
      "     ------------------------------- -------- 2.4/3.0 MB 2.7 MB/s eta 0:00:01\n",
      "     --------------------------------- ------ 2.5/3.0 MB 2.7 MB/s eta 0:00:01\n",
      "     ------------------------------------ --- 2.7/3.0 MB 2.8 MB/s eta 0:00:01\n",
      "     ------------------------------------- -- 2.8/3.0 MB 2.7 MB/s eta 0:00:01\n",
      "     ---------------------------------------  2.9/3.0 MB 2.7 MB/s eta 0:00:01\n",
      "     ---------------------------------------- 3.0/3.0 MB 2.7 MB/s eta 0:00:00\n",
      "  Installing build dependencies: started\n",
      "  Installing build dependencies: finished with status 'done'\n",
      "  Getting requirements to build wheel: started\n",
      "  Getting requirements to build wheel: finished with status 'done'\n",
      "  Preparing metadata (pyproject.toml): started\n",
      "  Preparing metadata (pyproject.toml): finished with status 'done'\n",
      "Collecting beautifulsoup4>=4.11.1 (from yfinance)\n",
      "  Downloading beautifulsoup4-4.12.3-py3-none-any.whl.metadata (3.8 kB)\n",
      "Collecting html5lib>=1.1 (from yfinance)\n",
      "  Downloading html5lib-1.1-py2.py3-none-any.whl.metadata (16 kB)\n",
      "Collecting soupsieve>1.2 (from beautifulsoup4>=4.11.1->yfinance)\n",
      "  Downloading soupsieve-2.5-py3-none-any.whl.metadata (4.7 kB)\n",
      "Requirement already satisfied: six>=1.9 in c:\\users\\pedro\\appdata\\local\\programs\\python\\python312\\lib\\site-packages (from html5lib>=1.1->yfinance) (1.16.0)\n",
      "Collecting webencodings (from html5lib>=1.1->yfinance)\n",
      "  Downloading webencodings-0.5.1-py2.py3-none-any.whl.metadata (2.1 kB)\n",
      "Requirement already satisfied: python-dateutil>=2.8.2 in c:\\users\\pedro\\appdata\\local\\programs\\python\\python312\\lib\\site-packages (from pandas>=1.3.0->yfinance) (2.9.0.post0)\n",
      "Requirement already satisfied: tzdata>=2022.7 in c:\\users\\pedro\\appdata\\local\\programs\\python\\python312\\lib\\site-packages (from pandas>=1.3.0->yfinance) (2024.1)\n",
      "Collecting charset-normalizer<4,>=2 (from requests>=2.31->yfinance)\n",
      "  Downloading charset_normalizer-3.3.2-cp312-cp312-win_amd64.whl.metadata (34 kB)\n",
      "Collecting idna<4,>=2.5 (from requests>=2.31->yfinance)\n",
      "  Downloading idna-3.7-py3-none-any.whl.metadata (9.9 kB)\n",
      "Collecting urllib3<3,>=1.21.1 (from requests>=2.31->yfinance)\n",
      "  Downloading urllib3-2.2.2-py3-none-any.whl.metadata (6.4 kB)\n",
      "Collecting certifi>=2017.4.17 (from requests>=2.31->yfinance)\n",
      "  Downloading certifi-2024.7.4-py3-none-any.whl.metadata (2.2 kB)\n",
      "Downloading yfinance-0.2.41-py2.py3-none-any.whl (73 kB)\n",
      "   ---------------------------------------- 0.0/73.5 kB ? eta -:--:--\n",
      "   ---------------------------------------  71.7/73.5 kB 1.9 MB/s eta 0:00:01\n",
      "   ---------------------------------------- 73.5/73.5 kB 1.3 MB/s eta 0:00:00\n",
      "Downloading beautifulsoup4-4.12.3-py3-none-any.whl (147 kB)\n",
      "   ---------------------------------------- 0.0/147.9 kB ? eta -:--:--\n",
      "   ------------------------------ --------- 112.6/147.9 kB 6.8 MB/s eta 0:00:01\n",
      "   ---------------------------------------- 147.9/147.9 kB 2.9 MB/s eta 0:00:00\n",
      "Downloading frozendict-2.4.4-py312-none-any.whl (16 kB)\n",
      "Downloading html5lib-1.1-py2.py3-none-any.whl (112 kB)\n",
      "   ---------------------------------------- 0.0/112.2 kB ? eta -:--:--\n",
      "   ------------------------------------ --- 102.4/112.2 kB 2.9 MB/s eta 0:00:01\n",
      "   ---------------------------------------- 112.2/112.2 kB 2.2 MB/s eta 0:00:00\n",
      "Downloading lxml-5.2.2-cp312-cp312-win_amd64.whl (3.8 MB)\n",
      "   ---------------------------------------- 0.0/3.8 MB ? eta -:--:--\n",
      "   - -------------------------------------- 0.1/3.8 MB 4.0 MB/s eta 0:00:01\n",
      "   - -------------------------------------- 0.2/3.8 MB 3.5 MB/s eta 0:00:02\n",
      "   ----- ---------------------------------- 0.5/3.8 MB 3.8 MB/s eta 0:00:01\n",
      "   ------ --------------------------------- 0.6/3.8 MB 3.7 MB/s eta 0:00:01\n",
      "   ------- -------------------------------- 0.7/3.8 MB 3.1 MB/s eta 0:00:01\n",
      "   --------- ------------------------------ 0.9/3.8 MB 3.2 MB/s eta 0:00:01\n",
      "   ---------- ----------------------------- 1.0/3.8 MB 3.1 MB/s eta 0:00:01\n",
      "   ----------- ---------------------------- 1.1/3.8 MB 3.1 MB/s eta 0:00:01\n",
      "   ------------ --------------------------- 1.2/3.8 MB 3.0 MB/s eta 0:00:01\n",
      "   -------------- ------------------------- 1.4/3.8 MB 3.1 MB/s eta 0:00:01\n",
      "   ---------------- ----------------------- 1.5/3.8 MB 3.1 MB/s eta 0:00:01\n",
      "   ---------------- ----------------------- 1.6/3.8 MB 3.1 MB/s eta 0:00:01\n",
      "   ----------------- ---------------------- 1.6/3.8 MB 2.8 MB/s eta 0:00:01\n",
      "   ------------------ --------------------- 1.8/3.8 MB 2.9 MB/s eta 0:00:01\n",
      "   -------------------- ------------------- 2.0/3.8 MB 2.9 MB/s eta 0:00:01\n",
      "   --------------------- ------------------ 2.1/3.8 MB 2.9 MB/s eta 0:00:01\n",
      "   ----------------------- ---------------- 2.3/3.8 MB 2.9 MB/s eta 0:00:01\n",
      "   ------------------------- -------------- 2.4/3.8 MB 2.9 MB/s eta 0:00:01\n",
      "   -------------------------- ------------- 2.6/3.8 MB 2.8 MB/s eta 0:00:01\n",
      "   ---------------------------- ----------- 2.7/3.8 MB 2.8 MB/s eta 0:00:01\n",
      "   ------------------------------ --------- 2.9/3.8 MB 2.8 MB/s eta 0:00:01\n",
      "   ------------------------------- -------- 3.0/3.8 MB 2.8 MB/s eta 0:00:01\n",
      "   --------------------------------- ------ 3.2/3.8 MB 2.8 MB/s eta 0:00:01\n",
      "   ---------------------------------- ----- 3.3/3.8 MB 2.8 MB/s eta 0:00:01\n",
      "   ----------------------------------- ---- 3.4/3.8 MB 2.8 MB/s eta 0:00:01\n",
      "   ------------------------------------- -- 3.5/3.8 MB 2.8 MB/s eta 0:00:01\n",
      "   -------------------------------------- - 3.6/3.8 MB 2.8 MB/s eta 0:00:01\n",
      "   ---------------------------------------  3.8/3.8 MB 2.8 MB/s eta 0:00:01\n",
      "   ---------------------------------------- 3.8/3.8 MB 2.8 MB/s eta 0:00:00\n",
      "Downloading multitasking-0.0.11-py3-none-any.whl (8.5 kB)\n",
      "Downloading requests-2.32.3-py3-none-any.whl (64 kB)\n",
      "   ---------------------------------------- 0.0/64.9 kB ? eta -:--:--\n",
      "   ---------------------------------------- 64.9/64.9 kB 3.6 MB/s eta 0:00:00\n",
      "Downloading certifi-2024.7.4-py3-none-any.whl (162 kB)\n",
      "   ---------------------------------------- 0.0/163.0 kB ? eta -:--:--\n",
      "   --------------- ------------------------ 61.4/163.0 kB 1.1 MB/s eta 0:00:01\n",
      "   ---------------------------------------- 163.0/163.0 kB 2.0 MB/s eta 0:00:00\n",
      "Downloading charset_normalizer-3.3.2-cp312-cp312-win_amd64.whl (100 kB)\n",
      "   ---------------------------------------- 0.0/100.4 kB ? eta -:--:--\n",
      "   ------------------------------------ --- 92.2/100.4 kB 1.7 MB/s eta 0:00:01\n",
      "   ---------------------------------------- 100.4/100.4 kB 1.4 MB/s eta 0:00:00\n",
      "Downloading idna-3.7-py3-none-any.whl (66 kB)\n",
      "   ---------------------------------------- 0.0/66.8 kB ? eta -:--:--\n",
      "   ------------------------------------ --- 61.4/66.8 kB 1.1 MB/s eta 0:00:01\n",
      "   ---------------------------------------- 66.8/66.8 kB 912.8 kB/s eta 0:00:00\n",
      "Downloading soupsieve-2.5-py3-none-any.whl (36 kB)\n",
      "Downloading urllib3-2.2.2-py3-none-any.whl (121 kB)\n",
      "   ---------------------------------------- 0.0/121.4 kB ? eta -:--:--\n",
      "   ------------------------------------- -- 112.6/121.4 kB 3.2 MB/s eta 0:00:01\n",
      "   ---------------------------------------- 121.4/121.4 kB 2.4 MB/s eta 0:00:00\n",
      "Downloading webencodings-0.5.1-py2.py3-none-any.whl (11 kB)\n",
      "Building wheels for collected packages: peewee\n",
      "  Building wheel for peewee (pyproject.toml): started\n",
      "  Building wheel for peewee (pyproject.toml): finished with status 'done'\n",
      "  Created wheel for peewee: filename=peewee-3.17.6-py3-none-any.whl size=138938 sha256=a83259a2f2928331635bf1728a672ab12ad90c1eb05ebf22633645c825b3a74f\n",
      "  Stored in directory: c:\\users\\pedro\\appdata\\local\\pip\\cache\\wheels\\a6\\5e\\0f\\8319805c4115320e0d3e8fb5799b114a2e4c4a3d6c7e523b06\n",
      "Successfully built peewee\n",
      "Installing collected packages: webencodings, peewee, multitasking, urllib3, soupsieve, lxml, idna, html5lib, frozendict, charset-normalizer, certifi, requests, beautifulsoup4, yfinance\n",
      "Successfully installed beautifulsoup4-4.12.3 certifi-2024.7.4 charset-normalizer-3.3.2 frozendict-2.4.4 html5lib-1.1 idna-3.7 lxml-5.2.2 multitasking-0.0.11 peewee-3.17.6 requests-2.32.3 soupsieve-2.5 urllib3-2.2.2 webencodings-0.5.1 yfinance-0.2.41\n"
     ]
    },
    {
     "name": "stderr",
     "output_type": "stream",
     "text": [
      "\n",
      "[notice] A new release of pip is available: 24.0 -> 24.2\n",
      "[notice] To update, run: python.exe -m pip install --upgrade pip\n"
     ]
    }
   ],
   "source": [
    "!pip install yfinance"
   ]
  },
  {
   "cell_type": "code",
   "execution_count": 17,
   "metadata": {},
   "outputs": [],
   "source": [
    "import yfinance"
   ]
  },
  {
   "cell_type": "code",
   "execution_count": 19,
   "metadata": {},
   "outputs": [
    {
     "data": {
      "text/html": [
       "<div>\n",
       "<style scoped>\n",
       "    .dataframe tbody tr th:only-of-type {\n",
       "        vertical-align: middle;\n",
       "    }\n",
       "\n",
       "    .dataframe tbody tr th {\n",
       "        vertical-align: top;\n",
       "    }\n",
       "\n",
       "    .dataframe thead th {\n",
       "        text-align: right;\n",
       "    }\n",
       "</style>\n",
       "<table border=\"1\" class=\"dataframe\">\n",
       "  <thead>\n",
       "    <tr style=\"text-align: right;\">\n",
       "      <th></th>\n",
       "      <th>Open</th>\n",
       "      <th>High</th>\n",
       "      <th>Low</th>\n",
       "      <th>Close</th>\n",
       "      <th>Volume</th>\n",
       "      <th>Dividends</th>\n",
       "      <th>Stock Splits</th>\n",
       "    </tr>\n",
       "    <tr>\n",
       "      <th>Date</th>\n",
       "      <th></th>\n",
       "      <th></th>\n",
       "      <th></th>\n",
       "      <th></th>\n",
       "      <th></th>\n",
       "      <th></th>\n",
       "      <th></th>\n",
       "    </tr>\n",
       "  </thead>\n",
       "  <tbody>\n",
       "    <tr>\n",
       "      <th>2020-01-02 00:00:00-03:00</th>\n",
       "      <td>19.803211</td>\n",
       "      <td>20.033353</td>\n",
       "      <td>19.736396</td>\n",
       "      <td>19.970249</td>\n",
       "      <td>26319800</td>\n",
       "      <td>0.0</td>\n",
       "      <td>0.0</td>\n",
       "    </tr>\n",
       "    <tr>\n",
       "      <th>2020-01-03 00:00:00-03:00</th>\n",
       "      <td>19.710411</td>\n",
       "      <td>20.011079</td>\n",
       "      <td>19.617613</td>\n",
       "      <td>19.936840</td>\n",
       "      <td>18930800</td>\n",
       "      <td>0.0</td>\n",
       "      <td>0.0</td>\n",
       "    </tr>\n",
       "    <tr>\n",
       "      <th>2020-01-06 00:00:00-03:00</th>\n",
       "      <td>19.821784</td>\n",
       "      <td>19.821784</td>\n",
       "      <td>19.469149</td>\n",
       "      <td>19.673306</td>\n",
       "      <td>19999800</td>\n",
       "      <td>0.0</td>\n",
       "      <td>0.0</td>\n",
       "    </tr>\n",
       "    <tr>\n",
       "      <th>2020-01-07 00:00:00-03:00</th>\n",
       "      <td>19.673299</td>\n",
       "      <td>19.684434</td>\n",
       "      <td>19.409751</td>\n",
       "      <td>19.524820</td>\n",
       "      <td>21277000</td>\n",
       "      <td>0.0</td>\n",
       "      <td>0.0</td>\n",
       "    </tr>\n",
       "    <tr>\n",
       "      <th>2020-01-08 00:00:00-03:00</th>\n",
       "      <td>19.584211</td>\n",
       "      <td>19.669587</td>\n",
       "      <td>19.316952</td>\n",
       "      <td>19.346647</td>\n",
       "      <td>42937200</td>\n",
       "      <td>0.0</td>\n",
       "      <td>0.0</td>\n",
       "    </tr>\n",
       "    <tr>\n",
       "      <th>...</th>\n",
       "      <td>...</td>\n",
       "      <td>...</td>\n",
       "      <td>...</td>\n",
       "      <td>...</td>\n",
       "      <td>...</td>\n",
       "      <td>...</td>\n",
       "      <td>...</td>\n",
       "    </tr>\n",
       "    <tr>\n",
       "      <th>2020-12-21 00:00:00-03:00</th>\n",
       "      <td>14.716363</td>\n",
       "      <td>14.859240</td>\n",
       "      <td>14.546454</td>\n",
       "      <td>14.592793</td>\n",
       "      <td>37437200</td>\n",
       "      <td>0.0</td>\n",
       "      <td>0.0</td>\n",
       "    </tr>\n",
       "    <tr>\n",
       "      <th>2020-12-22 00:00:00-03:00</th>\n",
       "      <td>14.727942</td>\n",
       "      <td>15.005974</td>\n",
       "      <td>14.673881</td>\n",
       "      <td>14.785866</td>\n",
       "      <td>21540800</td>\n",
       "      <td>0.0</td>\n",
       "      <td>0.0</td>\n",
       "    </tr>\n",
       "    <tr>\n",
       "      <th>2020-12-23 00:00:00-03:00</th>\n",
       "      <td>14.893989</td>\n",
       "      <td>15.129543</td>\n",
       "      <td>14.778143</td>\n",
       "      <td>15.029142</td>\n",
       "      <td>18352600</td>\n",
       "      <td>0.0</td>\n",
       "      <td>0.0</td>\n",
       "    </tr>\n",
       "    <tr>\n",
       "      <th>2020-12-28 00:00:00-03:00</th>\n",
       "      <td>15.183607</td>\n",
       "      <td>15.272423</td>\n",
       "      <td>15.137269</td>\n",
       "      <td>15.195191</td>\n",
       "      <td>15154400</td>\n",
       "      <td>0.0</td>\n",
       "      <td>0.0</td>\n",
       "    </tr>\n",
       "    <tr>\n",
       "      <th>2020-12-29 00:00:00-03:00</th>\n",
       "      <td>15.253114</td>\n",
       "      <td>15.291729</td>\n",
       "      <td>15.040729</td>\n",
       "      <td>15.106375</td>\n",
       "      <td>14602800</td>\n",
       "      <td>0.0</td>\n",
       "      <td>0.0</td>\n",
       "    </tr>\n",
       "  </tbody>\n",
       "</table>\n",
       "<p>247 rows × 7 columns</p>\n",
       "</div>"
      ],
      "text/plain": [
       "                                Open       High        Low      Close  \\\n",
       "Date                                                                    \n",
       "2020-01-02 00:00:00-03:00  19.803211  20.033353  19.736396  19.970249   \n",
       "2020-01-03 00:00:00-03:00  19.710411  20.011079  19.617613  19.936840   \n",
       "2020-01-06 00:00:00-03:00  19.821784  19.821784  19.469149  19.673306   \n",
       "2020-01-07 00:00:00-03:00  19.673299  19.684434  19.409751  19.524820   \n",
       "2020-01-08 00:00:00-03:00  19.584211  19.669587  19.316952  19.346647   \n",
       "...                              ...        ...        ...        ...   \n",
       "2020-12-21 00:00:00-03:00  14.716363  14.859240  14.546454  14.592793   \n",
       "2020-12-22 00:00:00-03:00  14.727942  15.005974  14.673881  14.785866   \n",
       "2020-12-23 00:00:00-03:00  14.893989  15.129543  14.778143  15.029142   \n",
       "2020-12-28 00:00:00-03:00  15.183607  15.272423  15.137269  15.195191   \n",
       "2020-12-29 00:00:00-03:00  15.253114  15.291729  15.040729  15.106375   \n",
       "\n",
       "                             Volume  Dividends  Stock Splits  \n",
       "Date                                                          \n",
       "2020-01-02 00:00:00-03:00  26319800        0.0           0.0  \n",
       "2020-01-03 00:00:00-03:00  18930800        0.0           0.0  \n",
       "2020-01-06 00:00:00-03:00  19999800        0.0           0.0  \n",
       "2020-01-07 00:00:00-03:00  21277000        0.0           0.0  \n",
       "2020-01-08 00:00:00-03:00  42937200        0.0           0.0  \n",
       "...                             ...        ...           ...  \n",
       "2020-12-21 00:00:00-03:00  37437200        0.0           0.0  \n",
       "2020-12-22 00:00:00-03:00  21540800        0.0           0.0  \n",
       "2020-12-23 00:00:00-03:00  18352600        0.0           0.0  \n",
       "2020-12-28 00:00:00-03:00  15154400        0.0           0.0  \n",
       "2020-12-29 00:00:00-03:00  14602800        0.0           0.0  \n",
       "\n",
       "[247 rows x 7 columns]"
      ]
     },
     "execution_count": 19,
     "metadata": {},
     "output_type": "execute_result"
    }
   ],
   "source": [
    "Ticker = input(\"Digite o código da ação desejada: \")\n",
    "\n",
    "dados = yfinance.Ticker(Ticker).history(start=\"2020-01-01\", end=\"2020-12-30\")\n",
    "dados"
   ]
  },
  {
   "cell_type": "markdown",
   "metadata": {},
   "source": [
    "Se quiser escolher uma coluna espécifica dos dados como a coluna `Volume`, basta digitar `dados.Volume`. Asim funciona com as demais colunas "
   ]
  },
  {
   "cell_type": "code",
   "execution_count": 20,
   "metadata": {},
   "outputs": [
    {
     "data": {
      "text/plain": [
       "Date\n",
       "2020-01-02 00:00:00-03:00    26319800\n",
       "2020-01-03 00:00:00-03:00    18930800\n",
       "2020-01-06 00:00:00-03:00    19999800\n",
       "2020-01-07 00:00:00-03:00    21277000\n",
       "2020-01-08 00:00:00-03:00    42937200\n",
       "                               ...   \n",
       "2020-12-21 00:00:00-03:00    37437200\n",
       "2020-12-22 00:00:00-03:00    21540800\n",
       "2020-12-23 00:00:00-03:00    18352600\n",
       "2020-12-28 00:00:00-03:00    15154400\n",
       "2020-12-29 00:00:00-03:00    14602800\n",
       "Name: Volume, Length: 247, dtype: int64"
      ]
     },
     "execution_count": 20,
     "metadata": {},
     "output_type": "execute_result"
    }
   ],
   "source": [
    "dados.Volume"
   ]
  },
  {
   "cell_type": "code",
   "execution_count": 21,
   "metadata": {},
   "outputs": [
    {
     "data": {
      "text/plain": [
       "<Axes: xlabel='Date'>"
      ]
     },
     "execution_count": 21,
     "metadata": {},
     "output_type": "execute_result"
    },
    {
     "data": {
      "image/png": "[encoded data removed]",
      "text/plain": [
       "<Figure size 640x480 with 1 Axes>"
      ]
     },
     "metadata": {},
     "output_type": "display_data"
    }
   ],
   "source": [
    "fechamento = dados.Close\n",
    "fechamento.plot()"
   ]
  },
  {
   "cell_type": "code",
   "execution_count": 35,
   "metadata": {},
   "outputs": [
    {
     "name": "stdout",
     "output_type": "stream",
     "text": [
      "19.97024917602539\n",
      "13.349169206040107\n",
      "12.674721717834473\n",
      "8.330195426940918\n"
     ]
    }
   ],
   "source": [
    "maxima =fechamento.max()\n",
    "mediana = fechamento.mean()\n",
    "media = fechamento.median()\n",
    "minima = fechamento.min()\n",
    "\n",
    "print(maxima)\n",
    "print(mediana)\n",
    "print(media)\n",
    "print(minima)"
   ]
  },
  {
   "cell_type": "markdown",
   "metadata": {},
   "source": [
    "#### Como arredondar os valores\n",
    "\n",
    "Será usado o comando `round()`:"
   ]
  },
  {
   "cell_type": "code",
   "execution_count": 38,
   "metadata": {},
   "outputs": [
    {
     "data": {
      "text/plain": [
       "19.97"
      ]
     },
     "execution_count": 38,
     "metadata": {},
     "output_type": "execute_result"
    }
   ],
   "source": [
    "maxima = round(fechamento.max(), 2)\n",
    "maxima"
   ]
  },
  {
   "cell_type": "markdown",
   "metadata": {},
   "source": [
    "Veja que quando aplicada a função `round()` a váriavel maxima terá apenas 2 casa, podemos fazer isso com quer número"
   ]
  }
 ],
 "metadata": {
  "kernelspec": {
   "display_name": "Python 3",
   "language": "python",
   "name": "python3"
  },
  "language_info": {
   "codemirror_mode": {
    "name": "ipython",
    "version": 3
   },
   "file_extension": ".py",
   "mimetype": "text/x-python",
   "name": "python",
   "nbconvert_exporter": "python",
   "pygments_lexer": "ipython3",
   "version": "3.12.3"
  }
 },
 "nbformat": 4,
 "nbformat_minor": 2
}
