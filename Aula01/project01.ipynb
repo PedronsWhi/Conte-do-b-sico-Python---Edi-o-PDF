{
 "cells": [
  {
   "cell_type": "markdown",
   "metadata": {},
   "source": [
    "# Project 01"
   ]
  },
  {
   "cell_type": "markdown",
   "metadata": {},
   "source": [
    "#### Mostrando informações para o usuário \n",
    "\n",
    "Comando `print()`\n"
   ]
  },
  {
   "cell_type": "code",
   "execution_count": 5,
   "metadata": {},
   "outputs": [
    {
     "name": "stdout",
     "output_type": "stream",
     "text": [
      "Olá Mundo!!\n",
      "eu quero aprender python na pratica\n"
     ]
    }
   ],
   "source": [
    "print(\"Olá Mundo!!\")\n",
    "print(\"eu quero aprender python na pratica\")"
   ]
  },
  {
   "cell_type": "markdown",
   "metadata": {},
   "source": [
    "#### Receber dados do usuário\n",
    "\n",
    "Comando `input()`"
   ]
  },
  {
   "cell_type": "code",
   "execution_count": 7,
   "metadata": {},
   "outputs": [
    {
     "name": "stdout",
     "output_type": "stream",
     "text": [
      "O número escolhido é inválido!!!\n"
     ]
    }
   ],
   "source": [
    "numero = int(input(\"Escolha um número de 1 a 10\"))\n",
    "\n",
    "if 1 <= numero <= 10:\n",
    "    print(f\"O número escolhido é:{numero}\")\n",
    "else:\n",
    "    print(\"O número escolhido é inválido!!!\")\n",
    "\n",
    "\n"
   ]
  },
  {
   "cell_type": "markdown",
   "metadata": {},
   "source": [
    "#### Armazenamento de dados em variáveis\n",
    "\n",
    "- case sensitive\n",
    "- use nomes que façam sentido\n",
    "- não pode começar com números\n",
    "- não pode conter espaços em branco"
   ]
  },
  {
   "cell_type": "code",
   "execution_count": 7,
   "metadata": {},
   "outputs": [],
   "source": [
    "#projeto = \"Olá mundo!\"\n",
    "número = 10"
   ]
  },
  {
   "cell_type": "markdown",
   "metadata": {},
   "source": [
    "#### Mesclando todos os conceitos aprendidos até agora"
   ]
  },
  {
   "cell_type": "code",
   "execution_count": null,
   "metadata": {},
   "outputs": [],
   "source": [
    "#projeto = input(\"Digite a descrição do projeto: \")\n",
    "Horas_trabalhadas = input(\"Digite a quantidade de horas previstas: \")\n",
    "#valor_hora = input(\"Digite o valor da hora trabalhada: \")\n",
    "#prazo = input(\"Digite o prazo estimado: \")"
   ]
  },
  {
   "cell_type": "markdown",
   "metadata": {},
   "source": [
    "#### Tipos de dados \n",
    "- Textos: `str`\n",
    "- Números: `int`\n"
   ]
  },
  {
   "cell_type": "code",
   "execution_count": null,
   "metadata": {},
   "outputs": [],
   "source": [
    "valor = 1000\n",
    "nome = \"Pedro\""
   ]
  },
  {
   "cell_type": "markdown",
   "metadata": {},
   "source": [
    "#### Comando para saber o tipo de dado\n",
    "- Comando `type()`"
   ]
  },
  {
   "cell_type": "code",
   "execution_count": 16,
   "metadata": {},
   "outputs": [
    {
     "data": {
      "text/plain": [
       "str"
      ]
     },
     "execution_count": 16,
     "metadata": {},
     "output_type": "execute_result"
    }
   ],
   "source": [
    "type(nome)"
   ]
  },
  {
   "cell_type": "code",
   "execution_count": 17,
   "metadata": {},
   "outputs": [
    {
     "data": {
      "text/plain": [
       "int"
      ]
     },
     "execution_count": 17,
     "metadata": {},
     "output_type": "execute_result"
    }
   ],
   "source": [
    "type(valor)"
   ]
  },
  {
   "cell_type": "markdown",
   "metadata": {},
   "source": [
    "#### Calculo nota média de aluno(Básico)"
   ]
  },
  {
   "cell_type": "code",
   "execution_count": 20,
   "metadata": {},
   "outputs": [
    {
     "name": "stdout",
     "output_type": "stream",
     "text": [
      "A média do aluno é 7.5\n"
     ]
    }
   ],
   "source": [
    "nota1 = 10\n",
    "nota2 = 7\n",
    "nota3 = 8\n",
    "nota4 = 5\n",
    "\n",
    "media = (nota1+nota2+nota3+nota4)/4\n",
    "print(f\"A média do aluno é {media}\")"
   ]
  },
  {
   "cell_type": "markdown",
   "metadata": {},
   "source": [
    "Forma mais prática"
   ]
  },
  {
   "cell_type": "code",
   "execution_count": 18,
   "metadata": {},
   "outputs": [
    {
     "data": {
      "text/plain": [
       "7.0"
      ]
     },
     "execution_count": 18,
     "metadata": {},
     "output_type": "execute_result"
    }
   ],
   "source": [
    "notas = {10,6,5,7}\n",
    "media = sum(notas)/len(notas)\n",
    "media\n",
    "\n"
   ]
  },
  {
   "cell_type": "markdown",
   "metadata": {},
   "source": [
    "- O uso do `sum()` faz com que todas as notas que estão dentro da lista somem entre si\n",
    "\n",
    "- O uso do`len()` é usado para ver o número de intens que estão na lista, no caso 4"
   ]
  },
  {
   "cell_type": "markdown",
   "metadata": {},
   "source": [
    "#### Gerando PDF do Orçamento"
   ]
  },
  {
   "cell_type": "code",
   "execution_count": 21,
   "metadata": {},
   "outputs": [
    {
     "name": "stdout",
     "output_type": "stream",
     "text": [
      "Collecting fpdf\n",
      "  Downloading fpdf-1.7.2.tar.gz (39 kB)\n",
      "  Installing build dependencies: started\n",
      "  Installing build dependencies: finished with status 'done'\n",
      "  Getting requirements to build wheel: started\n",
      "  Getting requirements to build wheel: finished with status 'done'\n",
      "  Preparing metadata (pyproject.toml): started\n",
      "  Preparing metadata (pyproject.toml): finished with status 'done'\n",
      "Building wheels for collected packages: fpdf\n",
      "  Building wheel for fpdf (pyproject.toml): started\n",
      "  Building wheel for fpdf (pyproject.toml): finished with status 'done'\n",
      "  Created wheel for fpdf: filename=fpdf-1.7.2-py2.py3-none-any.whl size=40714 sha256=4ca34666150b38437407bf375e888de02e71257afc29e1cbe480250acd8acfc9\n",
      "  Stored in directory: c:\\users\\pedro\\appdata\\local\\pip\\cache\\wheels\\6e\\62\\11\\dc73d78e40a218ad52e7451f30166e94491be013a7850b5d75\n",
      "Successfully built fpdf\n",
      "Installing collected packages: fpdf\n",
      "Successfully installed fpdf-1.7.2\n"
     ]
    },
    {
     "name": "stderr",
     "output_type": "stream",
     "text": [
      "\n",
      "[notice] A new release of pip is available: 24.0 -> 24.2\n",
      "[notice] To update, run: python.exe -m pip install --upgrade pip\n"
     ]
    }
   ],
   "source": [
    "!pip install fpdf"
   ]
  },
  {
   "cell_type": "markdown",
   "metadata": {},
   "source": [
    "importa FPDF"
   ]
  },
  {
   "cell_type": "code",
   "execution_count": 25,
   "metadata": {},
   "outputs": [],
   "source": [
    "from fpdf import FPDF"
   ]
  },
  {
   "cell_type": "markdown",
   "metadata": {},
   "source": [
    "Código criação do PDF"
   ]
  },
  {
   "cell_type": "code",
   "execution_count": 34,
   "metadata": {},
   "outputs": [
    {
     "name": "stdout",
     "output_type": "stream",
     "text": [
      "Orçamento gerado com sucesso!!!\n"
     ]
    }
   ],
   "source": [
    "projeto = input(\"Digite o nome do projeto: \")\n",
    "horas_previstas = int(input(\"Digite as horas previstas: \"))\n",
    "valor_hora = int(input(\"Digite o valor a cada hora\"))\n",
    "prazo = input(\"Digite o prazo estimado: \")\n",
    "valor_total = horas_previstas*valor_hora\n",
    "pdf = FPDF()\n",
    "\n",
    "pdf.add_page()\n",
    "pdf.set_font(\"Arial\")\n",
    "\n",
    "pdf.image(\"template.png\", x=0, y=0)\n",
    "\n",
    "pdf.text(115, 145, projeto)\n",
    "pdf.text(115, 160, str(horas_previstas))  # horas_previstas precisa ser convertida para string\n",
    "pdf.text(115, 175, str(valor_hora))  # valor_hora precisa ser convertida para string\n",
    "pdf.text(115, 190, prazo)\n",
    "pdf.text(115, 205, str(valor_total))\n",
    "\n",
    "pdf.output(\"Orçamento.pdf\")\n",
    "print(\"Orçamento gerado com sucesso!!!\")"
   ]
  }
 ],
 "metadata": {
  "kernelspec": {
   "display_name": "Python 3",
   "language": "python",
   "name": "python3"
  },
  "language_info": {
   "codemirror_mode": {
    "name": "ipython",
    "version": 3
   },
   "file_extension": ".py",
   "mimetype": "text/x-python",
   "name": "python",
   "nbconvert_exporter": "python",
   "pygments_lexer": "ipython3",
   "version": "3.12.3"
  }
 },
 "nbformat": 4,
 "nbformat_minor": 2
}
